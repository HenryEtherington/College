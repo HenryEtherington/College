{
 "cells": [
  {
   "cell_type": "code",
   "execution_count": 1,
   "metadata": {
    "collapsed": true
   },
   "outputs": [],
   "source": [
    "#Don't work nights ."
   ]
  },
  {
   "cell_type": "code",
   "execution_count": 2,
   "metadata": {
    "collapsed": true
   },
   "outputs": [],
   "source": [
    "#Get plenty of sleep ."
   ]
  },
  {
   "cell_type": "code",
   "execution_count": 3,
   "metadata": {
    "collapsed": true
   },
   "outputs": [],
   "source": [
    "#Money."
   ]
  },
  {
   "cell_type": "code",
   "execution_count": 4,
   "metadata": {
    "collapsed": true
   },
   "outputs": [],
   "source": [
    "#Cycling up hills is hard."
   ]
  },
  {
   "cell_type": "code",
   "execution_count": 5,
   "metadata": {},
   "outputs": [
    {
     "ename": "NameError",
     "evalue": "name 'guess' is not defined",
     "output_type": "error",
     "traceback": [
      "\u001b[1;31m---------------------------------------------------------------------------\u001b[0m",
      "\u001b[1;31mNameError\u001b[0m                                 Traceback (most recent call last)",
      "\u001b[1;32m<ipython-input-5-00bf94678992>\u001b[0m in \u001b[0;36m<module>\u001b[1;34m()\u001b[0m\n\u001b[1;32m----> 1\u001b[1;33m \u001b[0mprint\u001b[0m\u001b[1;33m(\u001b[0m\u001b[1;34m'is it'\u001b[0m \u001b[1;33m,\u001b[0m \u001b[0mguess\u001b[0m\u001b[1;33m,\u001b[0m \u001b[1;34m\" ?\"\u001b[0m \u001b[1;33m)\u001b[0m\u001b[1;33m\u001b[0m\u001b[0m\n\u001b[0m",
      "\u001b[1;31mNameError\u001b[0m: name 'guess' is not defined"
     ]
    }
   ],
   "source": [
    "print('is it' , guess, \" ?\" )"
   ]
  },
  {
   "cell_type": "code",
   "execution_count": null,
   "metadata": {
    "collapsed": true
   },
   "outputs": [],
   "source": [
    "guess = ((upper + lower ) // 2 )"
   ]
  },
  {
   "cell_type": "code",
   "execution_count": null,
   "metadata": {
    "collapsed": true
   },
   "outputs": [],
   "source": []
  },
  {
   "cell_type": "code",
   "execution_count": null,
   "metadata": {
    "collapsed": true
   },
   "outputs": [],
   "source": [
    "#Method 1"
   ]
  },
  {
   "cell_type": "code",
   "execution_count": null,
   "metadata": {
    "collapsed": true
   },
   "outputs": [],
   "source": [
    "lower = 1\n",
    "upper = 100\n",
    "guess = ((upper + lower ) // 2 )\n",
    "print (guess)"
   ]
  },
  {
   "cell_type": "code",
   "execution_count": null,
   "metadata": {
    "collapsed": true
   },
   "outputs": [],
   "source": []
  },
  {
   "cell_type": "code",
   "execution_count": null,
   "metadata": {
    "collapsed": true
   },
   "outputs": [],
   "source": [
    "#Method 2"
   ]
  },
  {
   "cell_type": "code",
   "execution_count": null,
   "metadata": {
    "collapsed": true
   },
   "outputs": [],
   "source": [
    "range = [1,100]\n",
    "guess = (range[0] + range[1]) // 2"
   ]
  },
  {
   "cell_type": "code",
   "execution_count": null,
   "metadata": {
    "collapsed": true
   },
   "outputs": [],
   "source": [
    "print(\" is \" , guess, \" ?\" )"
   ]
  },
  {
   "cell_type": "code",
   "execution_count": null,
   "metadata": {
    "collapsed": true
   },
   "outputs": [],
   "source": [
    "input ('is it'"
   ]
  },
  {
   "cell_type": "code",
   "execution_count": null,
   "metadata": {
    "collapsed": true
   },
   "outputs": [],
   "source": [
    "input ('is it')"
   ]
  },
  {
   "cell_type": "code",
   "execution_count": null,
   "metadata": {
    "collapsed": true
   },
   "outputs": [],
   "source": [
    "claim = input(print(\"is\" , guess, \"your number? (yes/no)\"))"
   ]
  },
  {
   "cell_type": "code",
   "execution_count": null,
   "metadata": {
    "collapsed": true
   },
   "outputs": [],
   "source": [
    "print (claim)"
   ]
  },
  {
   "cell_type": "code",
   "execution_count": null,
   "metadata": {
    "collapsed": true
   },
   "outputs": [],
   "source": [
    "lower = 1\n",
    "upper = 100\n",
    "guess = ((upper - lower ) // 2)\n",
    "print (guess)"
   ]
  },
  {
   "cell_type": "code",
   "execution_count": null,
   "metadata": {
    "collapsed": true
   },
   "outputs": [],
   "source": [
    "claim = input(print(\"is\" , guess, \"your number? <Yes/No>\"))\n",
    "print (claim)"
   ]
  },
  {
   "cell_type": "code",
   "execution_count": null,
   "metadata": {
    "collapsed": true
   },
   "outputs": [],
   "source": [
    "claim = input(print(\"is\" , guess, \"your number? <Yes/No>\"))\n"
   ]
  },
  {
   "cell_type": "code",
   "execution_count": null,
   "metadata": {
    "collapsed": true
   },
   "outputs": [],
   "source": [
    "print (claim)"
   ]
  },
  {
   "cell_type": "code",
   "execution_count": null,
   "metadata": {
    "collapsed": true
   },
   "outputs": [],
   "source": [
    "range = [1,100]\n",
    "guess = (range[0] + range[1]) // 2\n",
    "print('is it' , guess, \" ?\" )"
   ]
  },
  {
   "cell_type": "code",
   "execution_count": null,
   "metadata": {
    "collapsed": true
   },
   "outputs": [],
   "source": [
    "claim = input(print(\"is\" , guess, \"your number? <Yes/No>\"))"
   ]
  },
  {
   "cell_type": "code",
   "execution_count": null,
   "metadata": {
    "collapsed": true
   },
   "outputs": [],
   "source": [
    "lower = 1\n",
    "upper = 100\n",
    "guess = ((upper - lower ) // 2)\n",
    "print ('is it' , guess, \" ?\" )"
   ]
  },
  {
   "cell_type": "code",
   "execution_count": null,
   "metadata": {
    "collapsed": true
   },
   "outputs": [],
   "source": [
    "claim = input(print(\"is\" , guess, \"your number? <Yes/No>\"))"
   ]
  },
  {
   "cell_type": "code",
   "execution_count": null,
   "metadata": {
    "collapsed": true
   },
   "outputs": [],
   "source": [
    "print('is it' , guess, \" ?\" )"
   ]
  },
  {
   "cell_type": "code",
   "execution_count": null,
   "metadata": {
    "collapsed": true
   },
   "outputs": [],
   "source": [
    "lower = 1\n",
    "upper = 100\n",
    "guess = ((upper - lower ) // 2)\n",
    "print (guess)"
   ]
  },
  {
   "cell_type": "code",
   "execution_count": null,
   "metadata": {
    "collapsed": true
   },
   "outputs": [],
   "source": [
    "claim = input(print(\"is\" , guess, \"your number? <Yes/No>\"))"
   ]
  },
  {
   "cell_type": "code",
   "execution_count": null,
   "metadata": {
    "collapsed": true
   },
   "outputs": [],
   "source": [
    "claim = input(print(\"is\" , guess, \"your number? <Yes/No>\"))"
   ]
  },
  {
   "cell_type": "code",
   "execution_count": null,
   "metadata": {
    "collapsed": true
   },
   "outputs": [],
   "source": [
    "lower = 1\n",
    "upper = 100\n",
    "guess = ((upper + lower ) // 2)\n",
    "print (guess)"
   ]
  },
  {
   "cell_type": "code",
   "execution_count": null,
   "metadata": {
    "collapsed": true
   },
   "outputs": [],
   "source": [
    "claim = input(print(\"is\" , guess, \"your number? <Yes/No>\"))"
   ]
  },
  {
   "cell_type": "code",
   "execution_count": null,
   "metadata": {
    "collapsed": true
   },
   "outputs": [],
   "source": [
    "print('is it' , guess, \" ?\" )"
   ]
  },
  {
   "cell_type": "code",
   "execution_count": null,
   "metadata": {
    "collapsed": true
   },
   "outputs": [],
   "source": [
    "print (claim = input(print(\"is\" , guess, \"your number? <Yes/No>\")))"
   ]
  },
  {
   "cell_type": "code",
   "execution_count": null,
   "metadata": {
    "collapsed": true
   },
   "outputs": [],
   "source": [
    "Less than = < guess"
   ]
  },
  {
   "cell_type": "code",
   "execution_count": null,
   "metadata": {
    "collapsed": true
   },
   "outputs": [],
   "source": [
    "Grater than = > guess"
   ]
  },
  {
   "cell_type": "code",
   "execution_count": null,
   "metadata": {
    "collapsed": true
   },
   "outputs": [],
   "source": [
    "claim = input(print(\"is\" , guess, \"your number? <Yes/No>\"))"
   ]
  },
  {
   "cell_type": "code",
   "execution_count": null,
   "metadata": {
    "collapsed": true
   },
   "outputs": [],
   "source": [
    "print (claim)"
   ]
  },
  {
   "cell_type": "code",
   "execution_count": null,
   "metadata": {
    "collapsed": true
   },
   "outputs": [],
   "source": [
    "print (claim = Less than)"
   ]
  },
  {
   "cell_type": "code",
   "execution_count": null,
   "metadata": {
    "collapsed": true
   },
   "outputs": [],
   "source": [
    "print (claim = Greater than)"
   ]
  },
  {
   "cell_type": "code",
   "execution_count": null,
   "metadata": {
    "collapsed": true
   },
   "outputs": [],
   "source": [
    "#https://inventwithpython.com/chapter4.html"
   ]
  },
  {
   "cell_type": "code",
   "execution_count": null,
   "metadata": {
    "collapsed": true
   },
   "outputs": [],
   "source": [
    "   guess.py\n",
    "   1. # This is a guess the number game.\n",
    " 2. import random\n",
    "    3.\n",
    "\n",
    "    4. guessesTaken = 0\n",
    "    5.\n",
    "    6. print('Hello! What is your name?')\n",
    "    7. myName = input()\n",
    " 8.\n",
    "    9. number = random.randint(1, 20)\n",
    "10. print('Well, ' + myName + ', I am thinking of a number between 1 and 20.')\n",
    "11.\n",
    "12. while guessesTaken < 6:\n",
    "13.     print('Take a guess.') # There are four spaces in front of print.\n",
    "14.     guess = input()\n",
    "15.     guess = int(guess)\n",
    "16.\n",
    "17.     guessesTaken = guessesTaken + 1\n",
    "18.\n",
    "19.     if guess < number:\n",
    "20.         print('Your guess is too low.') # There are eight spaces in front of print.\n",
    "21.\n",
    "22.     if guess > number:\n",
    "23.         print('Your guess is too high.')\n",
    "24.\n",
    "25.     if guess == number:\n",
    "26.         break\n",
    "27.\n",
    "28. if guess == number:\n",
    "29.     guessesTaken = str(guessesTaken)\n",
    "30.     print('Good job, ' + myName + '! You guessed my number in ' + guessesTaken + ' guesses!')\n",
    "31.\n",
    "32. if guess != number:\n",
    "33.     number = str(number)\n",
    "34.     print('Nope. The number I was thinking of was ' + number)dom input.\n"
   ]
  },
  {
   "cell_type": "code",
   "execution_count": null,
   "metadata": {
    "collapsed": true
   },
   "outputs": [],
   "source": [
    "   guess.py\n",
    "1. # This is a guess the number game.\n",
    " 2. import random\n",
    "    3.\n",
    "\n",
    "    4. guessesTaken = 0\n",
    "    5.\n",
    "    6. print('Hello! What is your name?')\n",
    "    7. myName = input()\n",
    "8.\n",
    "    9. number = random.randint(1, 20)\n",
    "10. print('Well, ' + myName + ', I am thinking of a number between 1 and 20.')\n",
    "11.\n",
    "12. while guessesTaken < 6:\n",
    "13.     print('Take a guess.') # There are four spaces in front of print.\n",
    "14.     guess = input()\n",
    "15.     guess = int(guess)\n",
    "16.\n",
    "17.     guessesTaken = guessesTaken + 1\n",
    "18.\n",
    "19.     if guess < number:\n",
    "20.         print('Your guess is too low.') # There are eight spaces in front of print.\n",
    "21.\n",
    "22.     if guess > number:\n",
    "23.         print('Your guess is too high.')\n",
    "24.\n",
    "25.     if guess == number:\n",
    "26.         break\n",
    "27.\n",
    "28. if guess == number:\n",
    "29.     guessesTaken = str(guessesTaken)\n",
    "30.     print('Good job, ' + myName + '! You guessed my number in ' + guessesTaken + ' guesses!')\n",
    "31.\n",
    "32. if guess != number:\n",
    "33.     number = str(number)\n",
    "34.     print('Nope. The number I was thinking of was ' + number)dom input.\n"
   ]
  },
  {
   "cell_type": "code",
   "execution_count": null,
   "metadata": {},
   "outputs": [],
   "source": [
    " #https://inventwithpython.com/chapter4.html\n",
    "    \n",
    "    \n",
    "1. # This is a guess the number game.\n",
    "2. importt random\n",
    "    3.\n",
    "\n",
    "    4. guessesTaken = 0\n",
    "    5.\n",
    "    6. print('Hello! What is your name?')\n",
    "    7. myName = input()\n",
    "8.\n",
    "    9. number = random.randint(1, 20)\n",
    "10. print('Well, ' + myName + ', I am thinking of a number between 1 and 20.')\n",
    "11.\n",
    "12. while guessesTaken < 6:\n",
    "13.     print('Take a guess.') # There are four spaces in front of print.\n",
    "14.     guess = input()\n",
    "15.     guess = int(guess)\n",
    "16.\n",
    "17.     guessesTaken = guessesTaken + 1\n",
    "18.\n",
    "19.     if guess < number:\n",
    "20.         print('Your guess is too low.') # There are eight spaces in front of print.\n",
    "21.\n",
    "22.     if guess > number:\n",
    "23.         print('Your guess is too high.')\n",
    "24.\n",
    "25.     if guess == number:\n",
    "26.         break\n",
    "27.\n",
    "28. if guess == number:\n",
    "29.     guessesTaken = str(guessesTaken)\n",
    "30.     print('Good job, ' + myName + '! You guessed my number in ' + guessesTaken + ' guesses!')\n",
    "31.\n",
    "32. if guess != number:\n",
    "33.     number = str(number)\n",
    "34.     print('Nope. The number I was thinking of was ' + number)dom input."
   ]
  },
  {
   "cell_type": "code",
   "execution_count": null,
   "metadata": {},
   "outputs": [],
   "source": [
    "   guess.py\n",
    "1. # This is a guess the number game.\n",
    "2. import random\n",
    "    3.\n",
    "\n",
    "    4. guessesTaken = 0\n",
    "    5.\n",
    "    6. print('Hello! What is your name?')\n",
    "    7. myName = input()\n",
    "8.\n",
    "    9. number = random.randint(1, 20)\n",
    "10. print('Well, ' + myName + ', I am thinking of a number between 1 and 20.')\n",
    "11.\n",
    "12. while guessesTaken < 6:\n",
    "13.     print('Take a guess.') # There are four spaces in front of print.\n",
    "14.     guess = input()\n",
    "15.     guess = int(guess)\n",
    "16.\n",
    "17.     guessesTaken = guessesTaken + 1\n",
    "18.\n",
    "19.     if guess < number:\n",
    "20.         print('Your guess is too low.') # There are eight spaces in front of print.\n",
    "21.\n",
    "22.     if guess > number:\n",
    "23.         print('Your guess is too high.')\n",
    "24.\n",
    "25.     if guess == number:\n",
    "26.         break\n",
    "27.\n",
    "28. if guess == number:\n",
    "29.     guessesTaken = str(guessesTaken)\n",
    "30.     print('Good job, ' + myName + '! You guessed my number in ' + guessesTaken + ' guesses!')\n",
    "31.\n",
    "32. if guess != number:\n",
    "33.     number = str(number)\n",
    "34.     print('Nope. The number I was thinking of was ' + number)dom input."
   ]
  },
  {
   "cell_type": "code",
   "execution_count": null,
   "metadata": {},
   "outputs": [],
   "source": [
    "   guess.py\n",
    "1. # This is a guess the number game.\n",
    "2. import random\n",
    "    3.\n",
    "\n",
    "    4. guessesTaken = 0\n",
    "    5.\n",
    "    6. print('Hello! What is your name?')\n",
    "    7. myName = input()\n",
    "8.\n",
    "    9. number = random.randint(1, 20)\n",
    "10. print('Well, ' + myName + ', I am thinking of a number between 1 and 20.')\n",
    "11.\n",
    "12. while guessesTaken < 6:\n",
    "13.     print('Take a guess.') # There are four spaces in front of print.\n",
    "14.     guess = input()\n",
    "15.     guess = int(guess)\n",
    "16.\n",
    "17.     guessesTaken = guessesTaken + 1\n",
    "18.\n",
    "19.     if guess < number:\n",
    "20.         print('Your guess is too low.') # There are eight spaces in front of print.\n",
    "21.\n",
    "22.     if guess > number:\n",
    "23.         print('Your guess is too high.')\n",
    "24.\n",
    "25.     if guess == number:\n",
    "26.         break\n",
    "27.\n",
    "28. if guess == number:\n",
    "29.     guessesTaken = str(guessesTaken)\n",
    "30.     print('Good job, ' + myName + '! You guessed my number in ' + guessesTaken + ' guesses!')\n",
    "31.\n",
    "32. if guess != number:\n",
    "33.     number = str(number)\n",
    "34.     print('Nope. The number I was thinking of was ' + number)dom input."
   ]
  },
  {
   "cell_type": "code",
   "execution_count": null,
   "metadata": {
    "collapsed": true
   },
   "outputs": [],
   "source": [
    "#Line 2 imports the module named random so that the program can call\n",
    "#random.randint(). This function will come up with a random number for the\n",
    "#user to guess."
   ]
  },
  {
   "cell_type": "code",
   "execution_count": null,
   "metadata": {},
   "outputs": [],
   "source": [
    "4. guessesTaken = 0\n",
    "\n",
    "#Line 4 creates a new variable named guessesTaken. You’ll store the number of guesses the player has made in this variable. Since the player hasn’t made any guesses at this point in the program, store the integer 0 here"
   ]
  },
  {
   "cell_type": "code",
   "execution_count": null,
   "metadata": {
    "collapsed": true
   },
   "outputs": [],
   "source": [
    "# Python is named after Monty Python."
   ]
  },
  {
   "cell_type": "code",
   "execution_count": null,
   "metadata": {},
   "outputs": [],
   "source": [
    "9. number = random.randint(1, 20)\n",
    "\n",
    "#Line 9 calls a new function named randint() and stores the return value in number. Remember, function calls can be part of expressions because they evaluate to a value.\n",
    "\n",
    "#The randint() function is provided by the random module, so you must precede it with random. (don’t forget the period!) to tell Python that the function randint() is in the random module.\n",
    "\n",
    "#The randint() function will return a random integer between (and including) the two integer arguments you pass to it. Line 9 passes 1 and 20 between the parentheses separated by commas that follow the function name. The random integer that randint() returns is stored in a variable named number; this is the secret number the player is trying to guess.\n",
    "\n",
    "#Just for a moment, go back to the interactive shell and enter import random to import the random module. Then enter random.randint(1, 20) to see what the function call evaluates to. It will return an integer between 1 and 20. Repeat the code again and the function call will return a different integer. The randint() function returns random integer each time, just as rolling dice you’ll get a random number each\n",
    "#time:"
   ]
  },
  {
   "cell_type": "code",
   "execution_count": null,
   "metadata": {},
   "outputs": [],
   "source": [
    "\n",
    "#For example, enter the following into the interactive shell. The results you get when you call the random.randint() function will probably be different (it is random, after all).\n",
    "\n",
    ">>> random.randint(1, 4)\n",
    "3\n",
    ">>> random.randint(1000, 2000)\n",
    "1294\n",
    "\n",
    "#You can change the game’s code slightly to make the game behave differently. Try changing line 9 and 10 from this:\n",
    "\n",
    " number = random.randint(1, 20)\n",
    " print('Well, ' + name + ', I am thinking of a number between 1 and 20.')\n",
    "\n",
    "#…into these lines:\n",
    "\n",
    " 9. number = random.randint(1, 100)\n",
    "10. print('Well, ' + name + ', I am thinking of a number between 1 and 100.')\n",
    "\n",
    "#And now the computer will think of an integer between 1 and 100 instead of 1 and 20. Changing line 9 will change the range of the random number, but remember to change line 10 so that the game also tells the player the new range instead of the old one"
   ]
  },
  {
   "cell_type": "code",
   "execution_count": null,
   "metadata": {
    "collapsed": true
   },
   "outputs": [],
   "source": [
    "#Stack Overflow\n",
    "#https://stackoverflow.com/questions/14887186/python-reverse-number-guessing-game.\n"
   ]
  },
  {
   "cell_type": "code",
   "execution_count": null,
   "metadata": {},
   "outputs": [],
   "source": [
    "\n",
    "#computer enters a value x\n",
    "#lower - computer guesses lower than x\n",
    "#higher - computer guesses higher than x\n",
    "#when string \"You got it!\" - game over\n",
    "\n",
    "import random\n",
    "\n",
    "low = 0\n",
    "high = 100\n",
    "guess = ((low + high /2))\n",
    "\n",
    "print (\"Is it \", randomNumber, \" ?\")\n",
    "response = input()\n",
    "\n",
    "while response != \"Yes!\":\n",
    "    if response == \"higher\":\n",
    "        lowBound = randomNumber    \n",
    "        guess = ((low + high /2))\n",
    "        print (\"Is it \", randomNumber, \" ?\")\n",
    "        response = input()\n",
    "\n",
    "    elif response == \"lower\":\n",
    "        highBound = randomNumber\n",
    "        guess = ((low + high /2))\n",
    "        print (\"Is it \", randomNumber, \" ?\")\n",
    "        response = input()\n",
    "\n",
    "    if response == \"You got it!\":\n",
    "\n",
    "        print (\"Woohooo, I'm so gay'\")"
   ]
  },
  {
   "cell_type": "code",
   "execution_count": null,
   "metadata": {},
   "outputs": [],
   "source": [
    "#computer enters a value x\n",
    "#lower - computer guesses lower than x\n",
    "#higher - computer guesses higher than x\n",
    "#when string \"You got it!\" - game over\n",
    "\n",
    "low = 0\n",
    "high = 100\n",
    "guess = ((low + high) // 2)\n",
    "\n",
    "print (\"Is it \", guess, \" ?\")\n",
    "response = input()\n",
    "\n",
    "while response != \"yes\":\n",
    "    if response == \"higher\":\n",
    "        low = guess    \n",
    "        guess = ((low + high /2))\n",
    "        print (\"Is it \", guess, \" ?\")\n",
    "        response = input()\n",
    "\n",
    "    elif response == \"no\":\n",
    "        high = guess\n",
    "        low = low\n",
    "        guess = ((low + high /2))\n",
    "        print (\"Is it \", guess, \" ?\")\n",
    "        response = input()\n",
    "\n",
    "    if response == \"yes\":\n",
    "\n",
    "        print (\"Woohooo, I'm so gay'\")"
   ]
  },
  {
   "cell_type": "code",
   "execution_count": null,
   "metadata": {
    "collapsed": true
   },
   "outputs": [],
   "source": []
  },
  {
   "cell_type": "code",
   "execution_count": null,
   "metadata": {
    "collapsed": true
   },
   "outputs": [],
   "source": []
  },
  {
   "cell_type": "code",
   "execution_count": null,
   "metadata": {
    "collapsed": true
   },
   "outputs": [],
   "source": []
  },
  {
   "cell_type": "code",
   "execution_count": null,
   "metadata": {
    "collapsed": true
   },
   "outputs": [],
   "source": []
  }
 ],
 "metadata": {
  "kernelspec": {
   "display_name": "Python 3",
   "language": "python",
   "name": "python3"
  },
  "language_info": {
   "codemirror_mode": {
    "name": "ipython",
    "version": 3
   },
   "file_extension": ".py",
   "mimetype": "text/x-python",
   "name": "python",
   "nbconvert_exporter": "python",
   "pygments_lexer": "ipython3",
   "version": "3.6.1"
  }
 },
 "nbformat": 4,
 "nbformat_minor": 2
}
